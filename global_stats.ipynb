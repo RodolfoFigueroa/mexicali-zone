{
 "cells": [
  {
   "cell_type": "code",
   "execution_count": 305,
   "id": "dd68d61f",
   "metadata": {},
   "outputs": [],
   "source": [
    "import os\n",
    "import re\n",
    "\n",
    "import geopandas as gpd\n",
    "import numpy as np\n",
    "import pandas as pd\n",
    "import shapely\n",
    "\n",
    "from pathlib import Path"
   ]
  },
  {
   "cell_type": "code",
   "execution_count": 306,
   "id": "c9e097f2",
   "metadata": {},
   "outputs": [],
   "source": [
    "data_path = Path(os.environ[\"DATA_PATH\"])\n",
    "framework_path = Path(os.environ[\"FRAMEWORK_PATH\"])\n",
    "population_grids_path = Path(os.environ[\"GRID_PATH\"])"
   ]
  },
  {
   "cell_type": "code",
   "execution_count": 307,
   "id": "5cb2ecf6",
   "metadata": {},
   "outputs": [],
   "source": [
    "df_agebs = gpd.read_file(population_grids_path / \"final\" / \"zone_agebs\" / \"shaped\" / \"2020\" / \"02.2.03.gpkg\").to_crs(\"EPSG:6372\")\n",
    "wanted_cvegeos = set(df_agebs[\"CVEGEO\"].to_numpy().tolist())"
   ]
  },
  {
   "cell_type": "code",
   "execution_count": 308,
   "id": "da376be4",
   "metadata": {},
   "outputs": [],
   "source": [
    "lims = gpd.read_file(data_path / \"lim_aumxl24/lim_aumxl24.shp\").to_crs(\"EPSG:6372\")[\"geometry\"].item()"
   ]
  },
  {
   "cell_type": "markdown",
   "id": "98f31d27",
   "metadata": {},
   "source": [
    "# Stats"
   ]
  },
  {
   "cell_type": "code",
   "execution_count": 323,
   "id": "47c9e286",
   "metadata": {},
   "outputs": [],
   "source": [
    "def fillna(col: pd.Series) -> pd.Series:\n",
    "    return col.replace([\"*\", \"N/D\"], np.nan).astype(float)"
   ]
  },
  {
   "cell_type": "code",
   "execution_count": 324,
   "id": "49823fb3",
   "metadata": {},
   "outputs": [],
   "source": [
    "wanted_cols = [\"TVIVPAR\", \"TVIVPARHAB\", \"VPH_NDACMM\", \"VPH_PISOTI\", \"VPH_REFRI\", \"VPH_LAVAD\", \"VPH_HMICRO\", \"VPH_PC\", \"VPH_TV\", \"VPH_INTER\", \"POBTOT\", \"POB0_14\", \"VPH_BICI\"]\n",
    "\n",
    "df_census = (\n",
    "    pd.read_csv(\n",
    "        population_grids_path / \"initial\" / \"census\" / \"INEGI\" / \"2020\" / \"conjunto_de_datos_ageb_urbana_02_cpv2020.csv\",\n",
    "        usecols=[\"ENTIDAD\", \"MUN\", \"LOC\", \"AGEB\", \"MZA\"] + wanted_cols,\n",
    "    )\n",
    ")\n",
    "\n",
    "for col in wanted_cols:\n",
    "    df_census = df_census.assign(**{col: lambda df: fillna(df[col])})\n",
    "\n",
    "df_census = (\n",
    "    df_census\n",
    "    .query(\"MZA != 0\")\n",
    "    .assign(\n",
    "        CVEGEO=lambda df: (\n",
    "            df[\"ENTIDAD\"].astype(str).str.zfill(2)\n",
    "            + df[\"MUN\"].astype(str).str.zfill(3)\n",
    "            + df[\"LOC\"].astype(str).str.zfill(4)\n",
    "            + df[\"AGEB\"].astype(str).str.zfill(4)\n",
    "            + df[\"MZA\"].astype(str).str.zfill(3)\n",
    "        )\n",
    "    )\n",
    "    .set_index(\"CVEGEO\")\n",
    "    .drop(columns=[\"ENTIDAD\", \"MUN\", \"LOC\", \"AGEB\", \"MZA\"])\n",
    ")\n",
    "\n",
    "df_framework = (\n",
    "    gpd.read_file(framework_path / \"2020\" / \"02_bajacalifornia\" / \"02m.shp\")\n",
    "    .filter([\"geometry\", \"CVEGEO\"])\n",
    "    .set_index(\"CVEGEO\")\n",
    ")\n",
    "\n",
    "joined = (\n",
    "    df_framework\n",
    "    .join(df_census, how=\"inner\")\n",
    "    .assign(CVEGEO_AGEB=lambda df: df.index.str.slice(0, 13))\n",
    "    .query(\"CVEGEO_AGEB in @wanted_cvegeos\")\n",
    "    .drop(columns=[\"CVEGEO_AGEB\"])\n",
    ")\n",
    "\n",
    "joined = joined[joined.intersects(lims)].to_crs(\"EPSG:6372\")"
   ]
  },
  {
   "cell_type": "code",
   "execution_count": 325,
   "id": "89d86571",
   "metadata": {},
   "outputs": [
    {
     "data": {
      "application/vnd.microsoft.datawrangler.viewer.v0+json": {
       "columns": [
        {
         "name": "index",
         "rawType": "int64",
         "type": "integer"
        },
        {
         "name": "stat",
         "rawType": "object",
         "type": "string"
        },
        {
         "name": "value",
         "rawType": "float64",
         "type": "float"
        }
       ],
       "ref": "3fa29016-8153-49a3-ac00-f035a2e3fd68",
       "rows": [
        [
         "0",
         "total_viviendas_particulares",
         "290570.0"
        ],
        [
         "1",
         "frac_viviendas_habitadas",
         "0.9309598375606566"
        ],
        [
         "2",
         "frac_viviendas_con_vehiculo_privado",
         "0.8090636540743561"
        ],
        [
         "3",
         "frac_viviendas_con_piso_tierra",
         "0.004299302426166967"
        ],
        [
         "4",
         "frac_viviendas_con_refrigerador",
         "0.9732652148357356"
        ],
        [
         "5",
         "frac_viviendas_con_lavadora",
         "0.8833680210270268"
        ],
        [
         "6",
         "frac_viviendas_con_microondas",
         "0.7070744411461356"
        ],
        [
         "7",
         "frac_viviendas_con_computadora",
         "0.5423220669182911"
        ],
        [
         "8",
         "frac_viviendas_con_television",
         "0.9555245851339512"
        ],
        [
         "9",
         "frac_viviendas_con_internet",
         "0.7451249311483167"
        ],
        [
         "10",
         "frac_viviendas_con_bicicleta",
         "0.17388330887327225"
        ]
       ],
       "shape": {
        "columns": 2,
        "rows": 11
       }
      },
      "text/html": [
       "<div>\n",
       "<style scoped>\n",
       "    .dataframe tbody tr th:only-of-type {\n",
       "        vertical-align: middle;\n",
       "    }\n",
       "\n",
       "    .dataframe tbody tr th {\n",
       "        vertical-align: top;\n",
       "    }\n",
       "\n",
       "    .dataframe thead th {\n",
       "        text-align: right;\n",
       "    }\n",
       "</style>\n",
       "<table border=\"1\" class=\"dataframe\">\n",
       "  <thead>\n",
       "    <tr style=\"text-align: right;\">\n",
       "      <th></th>\n",
       "      <th>stat</th>\n",
       "      <th>value</th>\n",
       "    </tr>\n",
       "  </thead>\n",
       "  <tbody>\n",
       "    <tr>\n",
       "      <th>0</th>\n",
       "      <td>total_viviendas_particulares</td>\n",
       "      <td>290570.000000</td>\n",
       "    </tr>\n",
       "    <tr>\n",
       "      <th>1</th>\n",
       "      <td>frac_viviendas_habitadas</td>\n",
       "      <td>0.930960</td>\n",
       "    </tr>\n",
       "    <tr>\n",
       "      <th>2</th>\n",
       "      <td>frac_viviendas_con_vehiculo_privado</td>\n",
       "      <td>0.809064</td>\n",
       "    </tr>\n",
       "    <tr>\n",
       "      <th>3</th>\n",
       "      <td>frac_viviendas_con_piso_tierra</td>\n",
       "      <td>0.004299</td>\n",
       "    </tr>\n",
       "    <tr>\n",
       "      <th>4</th>\n",
       "      <td>frac_viviendas_con_refrigerador</td>\n",
       "      <td>0.973265</td>\n",
       "    </tr>\n",
       "    <tr>\n",
       "      <th>5</th>\n",
       "      <td>frac_viviendas_con_lavadora</td>\n",
       "      <td>0.883368</td>\n",
       "    </tr>\n",
       "    <tr>\n",
       "      <th>6</th>\n",
       "      <td>frac_viviendas_con_microondas</td>\n",
       "      <td>0.707074</td>\n",
       "    </tr>\n",
       "    <tr>\n",
       "      <th>7</th>\n",
       "      <td>frac_viviendas_con_computadora</td>\n",
       "      <td>0.542322</td>\n",
       "    </tr>\n",
       "    <tr>\n",
       "      <th>8</th>\n",
       "      <td>frac_viviendas_con_television</td>\n",
       "      <td>0.955525</td>\n",
       "    </tr>\n",
       "    <tr>\n",
       "      <th>9</th>\n",
       "      <td>frac_viviendas_con_internet</td>\n",
       "      <td>0.745125</td>\n",
       "    </tr>\n",
       "    <tr>\n",
       "      <th>10</th>\n",
       "      <td>frac_viviendas_con_bicicleta</td>\n",
       "      <td>0.173883</td>\n",
       "    </tr>\n",
       "  </tbody>\n",
       "</table>\n",
       "</div>"
      ],
      "text/plain": [
       "                                   stat          value\n",
       "0          total_viviendas_particulares  290570.000000\n",
       "1              frac_viviendas_habitadas       0.930960\n",
       "2   frac_viviendas_con_vehiculo_privado       0.809064\n",
       "3        frac_viviendas_con_piso_tierra       0.004299\n",
       "4       frac_viviendas_con_refrigerador       0.973265\n",
       "5           frac_viviendas_con_lavadora       0.883368\n",
       "6         frac_viviendas_con_microondas       0.707074\n",
       "7        frac_viviendas_con_computadora       0.542322\n",
       "8         frac_viviendas_con_television       0.955525\n",
       "9           frac_viviendas_con_internet       0.745125\n",
       "10         frac_viviendas_con_bicicleta       0.173883"
      ]
     },
     "execution_count": 325,
     "metadata": {},
     "output_type": "execute_result"
    }
   ],
   "source": [
    "rows = {\n",
    "    \"total_viviendas_particulares\": joined[\"TVIVPAR\"].sum(),\n",
    "    \"frac_viviendas_habitadas\": joined[\"TVIVPARHAB\"].sum() / joined[\"TVIVPAR\"].sum(),\n",
    "    \"frac_viviendas_con_vehiculo_privado\": 1 - joined[\"VPH_NDACMM\"].sum() / joined[\"TVIVPARHAB\"].sum(),\n",
    "    \"frac_viviendas_con_piso_tierra\": joined[\"VPH_PISOTI\"].sum() / joined[\"TVIVPARHAB\"].sum(),\n",
    "    \"frac_viviendas_con_refrigerador\": joined[\"VPH_REFRI\"].sum() / joined[\"TVIVPARHAB\"].sum(),\n",
    "    \"frac_viviendas_con_lavadora\": joined[\"VPH_LAVAD\"].sum() / joined[\"TVIVPARHAB\"].sum(),\n",
    "    \"frac_viviendas_con_microondas\": joined[\"VPH_HMICRO\"].sum() / joined[\"TVIVPARHAB\"].sum(),\n",
    "    \"frac_viviendas_con_computadora\": joined[\"VPH_PC\"].sum() / joined[\"TVIVPARHAB\"].sum(),\n",
    "    \"frac_viviendas_con_television\": joined[\"VPH_TV\"].sum() / joined[\"TVIVPARHAB\"].sum(),\n",
    "    \"frac_viviendas_con_internet\": joined[\"VPH_INTER\"].sum() / joined[\"TVIVPARHAB\"].sum(),\n",
    "    \"frac_viviendas_con_bicicleta\": joined[\"VPH_BICI\"].sum() / joined[\"TVIVPARHAB\"].sum(),\n",
    "}\n",
    "\n",
    "stats = pd.DataFrame.from_dict(rows, orient=\"index\", columns=[\"value\"]).reset_index(names=\"stat\")\n",
    "stats"
   ]
  },
  {
   "cell_type": "markdown",
   "id": "301b33c4",
   "metadata": {},
   "source": [
    "# Más lejos de alguna feature"
   ]
  },
  {
   "cell_type": "code",
   "execution_count": 326,
   "id": "73485370",
   "metadata": {},
   "outputs": [],
   "source": [
    "def get_pop_not_intersects(df: gpd.GeoDataFrame, features: gpd.GeoDataFrame, *, pop_col: str) -> float:\n",
    "    idx_within = df.sjoin(features).index\n",
    "    blocks_without = joined.loc[~joined.index.isin(idx_within)]\n",
    "    return blocks_without[pop_col].sum() / df[pop_col].sum()"
   ]
  },
  {
   "cell_type": "markdown",
   "id": "b1b0aece",
   "metadata": {},
   "source": [
    "## Rutas camión"
   ]
  },
  {
   "cell_type": "code",
   "execution_count": 327,
   "id": "cc3f6929",
   "metadata": {},
   "outputs": [],
   "source": [
    "df_routes = (\n",
    "    gpd.read_file(data_path / \"RUTA_TRANSP_URB\")\n",
    "    .filter([\"geometry\"])\n",
    "    .to_crs(\"EPSG:6372\")\n",
    ")\n",
    "routes_buffered = df_routes.assign(geometry=lambda df: df[\"geometry\"].buffer(500, resolution=64))\n",
    "\n",
    "rows[\"frac_personas_mas_lejos_500m_autobus\"] = get_pop_not_intersects(joined, routes_buffered, pop_col=\"POBTOT\")"
   ]
  },
  {
   "cell_type": "markdown",
   "id": "591b9141",
   "metadata": {},
   "source": [
    "## Espacios públicos"
   ]
  },
  {
   "cell_type": "code",
   "execution_count": 328,
   "id": "70321189",
   "metadata": {},
   "outputs": [],
   "source": [
    "public_spaces = (\n",
    "    gpd.read_file(data_path / \"esp_pub/esp_pub.shp\")\n",
    "    .to_crs(\"EPSG:6372\")\n",
    "    .assign(\n",
    "        radius=lambda df: np.sqrt(df.Sup_M2 / np.pi),\n",
    "        geometry=lambda df: df.apply(lambda x: x.geometry.buffer(x.radius, resolution=64), axis=1)\n",
    "    )\n",
    "    .query(\"~TIPO.isin(['CAMELLONES', 'CUCHILLAS', 'GLORIETAS'])\")\n",
    ")\n",
    "\n",
    "public_spaces_buffered = public_spaces.assign(\n",
    "    geometry=lambda df: df[\"geometry\"].buffer(1000, resolution=64)\n",
    ")\n",
    "\n",
    "rows[\"frac_ninos_mas_lejos_1km_parques\"] = get_pop_not_intersects(joined, routes_buffered, pop_col=\"POB0_14\")"
   ]
  },
  {
   "cell_type": "markdown",
   "id": "5f4c9475",
   "metadata": {},
   "source": [
    "# Escuelas"
   ]
  },
  {
   "cell_type": "code",
   "execution_count": 329,
   "id": "02251f03",
   "metadata": {},
   "outputs": [],
   "source": [
    "DENUE_TO_AMENITY_MAPPING = [\n",
    "    # Salud\n",
    "    {\n",
    "        \"name\": \"Consultorios médicos\",\n",
    "        \"query\": 'codigo_act.str.match(\"^621\")',\n",
    "    },\n",
    "    {\n",
    "        \"name\": \"Hospital general\",\n",
    "        \"query\": 'codigo_act.str.match(\"^622\")',\n",
    "    },\n",
    "    {\n",
    "        \"name\": \"Farmacia\",\n",
    "        \"query\": 'codigo_act.str.match(\"^46411\")',\n",
    "    },\n",
    "    # Recreativo\n",
    "    {\n",
    "        \"name\": \"Cine\",\n",
    "        \"query\": 'codigo_act.str.match(\"^51213\")',\n",
    "    },\n",
    "    {\n",
    "        \"name\": \"Otros servicios recreativos\",\n",
    "        \"query\": 'codigo_act.str.match(\"^(71399|712|713)\")',\n",
    "    },\n",
    "    {\n",
    "        \"name\": \"Clubs deportivos y de acondicionamiento físico\",\n",
    "        \"query\": 'codigo_act.str.match(\"^(71391|71394)\")'\n",
    "        \n",
    "    },\n",
    "    # Educación\n",
    "    {\n",
    "        \"name\": \"Guarderia\",\n",
    "        \"query\": 'codigo_act.str.match(\"^6244\")',\n",
    "    },\n",
    "    {\n",
    "        \"name\": \"Educación preescolar\",\n",
    "        \"query\": 'codigo_act.str.match(\"^61111\")',\n",
    "    },\n",
    "    {\n",
    "        \"name\": \"Educación primaria\",\n",
    "        \"query\": 'codigo_act.str.match(\"^61112\")'\n",
    "    },\n",
    "    {\n",
    "        \"name\": \"Educación secundaria\",\n",
    "        \"query\": 'codigo_act.str.match(\"^(61113|61114)\")'\n",
    "    },\n",
    "    {\n",
    "        \"name\": \"Educación media superior\",\n",
    "        \"query\": 'codigo_act.str.match(\"^(61115|61116)\")'\n",
    "    },\n",
    "    {\n",
    "        \"name\": \"Educación superior\",\n",
    "        \"query\": 'codigo_act.str.match(\"^(6112|6113)\")'\n",
    "    }\n",
    "]\n",
    "\n",
    "\n",
    "def process_occupancy(x: str) -> str:\n",
    "    matches = re.match(r'([0-9]+) a ([0-9]+) personas', x.strip())\n",
    "    return (int(matches.groups()[0]) + int(matches.groups()[1])) / 2 if matches else matches"
   ]
  },
  {
   "cell_type": "code",
   "execution_count": 330,
   "id": "7408cf76",
   "metadata": {},
   "outputs": [],
   "source": [
    "denue_base = gpd.GeoDataFrame(\n",
    "    (\n",
    "        pd.read_csv(\n",
    "            data_path / \"denue.csv\",\n",
    "            encoding=\"latin1\",\n",
    "        )\n",
    "        .query(\"municipio == 'Mexicali'\")\n",
    "        .assign(geometry=lambda x: gpd.points_from_xy(x.longitud, x.latitud))\n",
    "        .drop(columns=[\"municipio\"])\n",
    "        .set_index(\"clee\")\n",
    "        .assign(\n",
    "            per_ocu=lambda x: x.per_ocu.apply(process_occupancy),\n",
    "            codigo_act=lambda x: x.codigo_act.astype(str)\n",
    "        )\n",
    "        .dropna(subset=[\"per_ocu\"])\n",
    "        .rename(columns={\"per_ocu\": \"num_workers\"})\n",
    "        [[\"geometry\", \"codigo_act\", \"num_workers\"]]\n",
    "    ),\n",
    "    crs=\"EPSG:4326\",\n",
    "    geometry=\"geometry\"\n",
    ").to_crs(\"EPSG:6372\")\n",
    "\n",
    "for elem in DENUE_TO_AMENITY_MAPPING:\n",
    "    idx = denue_base.query(elem[\"query\"]).index\n",
    "    denue_base.loc[idx, \"amenity\"] = elem[\"name\"]\n",
    "\n",
    "denue_base = (\n",
    "    denue_base\n",
    "    .dropna(subset=[\"amenity\"])\n",
    "    .drop(columns=[\"codigo_act\"])\n",
    ")"
   ]
  },
  {
   "cell_type": "code",
   "execution_count": 331,
   "id": "7155aae7",
   "metadata": {},
   "outputs": [],
   "source": [
    "schools = denue_base.query(\"amenity.isin(['Educación preescolar', 'Educación primaria', 'Educación secundaria', 'Educación media superior', 'Educación superior'])\")\n",
    "schools_buffered = schools.assign(\n",
    "    geometry=lambda df: df[\"geometry\"].buffer(1000, resolution=64)\n",
    ")\n",
    "\n",
    "rows[\"frac_personas_mas_lejos_1km_escuelas\"] = get_pop_not_intersects(joined, schools_buffered, pop_col=\"POBTOT\")"
   ]
  },
  {
   "cell_type": "markdown",
   "id": "f87278f0",
   "metadata": {},
   "source": [
    "## Hospitales"
   ]
  },
  {
   "cell_type": "code",
   "execution_count": 332,
   "id": "5d118e05",
   "metadata": {},
   "outputs": [],
   "source": [
    "hospitals = denue_base.query(\"amenity == 'Hospital general'\")\n",
    "hospitals_buffered = hospitals.assign(\n",
    "    geometry=lambda df: df[\"geometry\"].buffer(1000, resolution=64)\n",
    ")\n",
    "rows[\"frac_personas_mas_lejos_1km_hospitales\"] = get_pop_not_intersects(joined, hospitals_buffered, pop_col=\"POBTOT\")"
   ]
  },
  {
   "cell_type": "markdown",
   "id": "c538a905",
   "metadata": {},
   "source": [
    "## Hospitales y consultorios"
   ]
  },
  {
   "cell_type": "code",
   "execution_count": 333,
   "id": "de214b78",
   "metadata": {},
   "outputs": [],
   "source": [
    "hospitals_extra = denue_base.query(\"amenity.isin(['Hospital general', 'Consultorio médico', 'Farmacia'])\")\n",
    "hospitals_extra_buffered = hospitals_extra.assign(\n",
    "    geometry=lambda df: df[\"geometry\"].buffer(1000, resolution=64)\n",
    ")\n",
    "rows[\"frac_personas_mas_lejos_1km_hospitales_y_farmacias\"] = get_pop_not_intersects(joined, hospitals_extra_buffered, pop_col=\"POBTOT\")"
   ]
  },
  {
   "cell_type": "code",
   "execution_count": 334,
   "id": "771c064f",
   "metadata": {},
   "outputs": [],
   "source": [
    "out = pd.DataFrame.from_dict(rows, orient=\"index\", columns=[\"value\"]).reset_index(names=\"stat\")\n",
    "out.to_csv(\"./stats.csv\", index=False)"
   ]
  },
  {
   "cell_type": "code",
   "execution_count": null,
   "id": "3be4a4a0",
   "metadata": {},
   "outputs": [],
   "source": []
  }
 ],
 "metadata": {
  "kernelspec": {
   "display_name": "mexicali-zone-py3.11",
   "language": "python",
   "name": "python3"
  },
  "language_info": {
   "codemirror_mode": {
    "name": "ipython",
    "version": 3
   },
   "file_extension": ".py",
   "mimetype": "text/x-python",
   "name": "python",
   "nbconvert_exporter": "python",
   "pygments_lexer": "ipython3",
   "version": "3.11.9"
  }
 },
 "nbformat": 4,
 "nbformat_minor": 5
}
